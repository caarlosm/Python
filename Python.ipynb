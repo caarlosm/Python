{
 "cells": [
  {
   "cell_type": "code",
   "execution_count": 7,
   "id": "e0dfaccc",
   "metadata": {},
   "outputs": [
    {
     "data": {
      "text/plain": [
       "120"
      ]
     },
     "execution_count": 7,
     "metadata": {},
     "output_type": "execute_result"
    }
   ],
   "source": [
    "import math\n",
    "\n",
    "math.factorial(5)"
   ]
  },
  {
   "cell_type": "code",
   "execution_count": 8,
   "id": "ceb35013",
   "metadata": {},
   "outputs": [
    {
     "name": "stdout",
     "output_type": "stream",
     "text": [
      "Digite um numero8\n"
     ]
    },
    {
     "data": {
      "text/plain": [
       "40320"
      ]
     },
     "execution_count": 8,
     "metadata": {},
     "output_type": "execute_result"
    }
   ],
   "source": [
    "import math\n",
    "\n",
    "numero = int(input(\"Digite um numero\"))\n",
    "\n",
    "math.factorial(numero)"
   ]
  },
  {
   "cell_type": "code",
   "execution_count": 16,
   "id": "80a550be",
   "metadata": {},
   "outputs": [
    {
     "data": {
      "text/plain": [
       "datetime.date(2022, 5, 26)"
      ]
     },
     "execution_count": 16,
     "metadata": {},
     "output_type": "execute_result"
    }
   ],
   "source": [
    "import datetime\n",
    "\n",
    "datetime.date.today()"
   ]
  },
  {
   "cell_type": "code",
   "execution_count": 18,
   "id": "f8431e2d",
   "metadata": {},
   "outputs": [
    {
     "data": {
      "text/plain": [
       "'2022-05-26'"
      ]
     },
     "execution_count": 18,
     "metadata": {},
     "output_type": "execute_result"
    }
   ],
   "source": [
    "import datetime\n",
    "datetime.date.isoformat(datetime.date.today())"
   ]
  },
  {
   "cell_type": "code",
   "execution_count": 19,
   "id": "0b96f970",
   "metadata": {},
   "outputs": [],
   "source": [
    "from datetime import date\n"
   ]
  },
  {
   "cell_type": "code",
   "execution_count": 21,
   "id": "78eb481d",
   "metadata": {},
   "outputs": [
    {
     "ename": "AttributeError",
     "evalue": "type object 'datetime.date' has no attribute 'isoformart'",
     "output_type": "error",
     "traceback": [
      "\u001b[1;31m---------------------------------------------------------------------------\u001b[0m",
      "\u001b[1;31mAttributeError\u001b[0m                            Traceback (most recent call last)",
      "Input \u001b[1;32mIn [21]\u001b[0m, in \u001b[0;36m<cell line: 3>\u001b[1;34m()\u001b[0m\n\u001b[0;32m      1\u001b[0m \u001b[38;5;28;01mfrom\u001b[39;00m \u001b[38;5;21;01mdatetime\u001b[39;00m \u001b[38;5;28;01mimport\u001b[39;00m date\n\u001b[1;32m----> 3\u001b[0m \u001b[43mdate\u001b[49m\u001b[38;5;241;43m.\u001b[39;49m\u001b[43misoformart\u001b[49m(date\u001b[38;5;241m.\u001b[39mtoday())\n",
      "\u001b[1;31mAttributeError\u001b[0m: type object 'datetime.date' has no attribute 'isoformart'"
     ]
    }
   ],
   "source": [
    "from datetime import date\n",
    "\n",
    "date.isoformart(date.today())"
   ]
  },
  {
   "cell_type": "code",
   "execution_count": 22,
   "id": "6bc05ff5",
   "metadata": {},
   "outputs": [
    {
     "data": {
      "text/plain": [
       "'2022-05-26'"
      ]
     },
     "execution_count": 22,
     "metadata": {},
     "output_type": "execute_result"
    }
   ],
   "source": [
    "from datetime import date\n",
    "date.isoformat(date.today())"
   ]
  },
  {
   "cell_type": "code",
   "execution_count": 23,
   "id": "36dcd7f0",
   "metadata": {},
   "outputs": [
    {
     "ename": "NameError",
     "evalue": "name 'parabens' is not defined",
     "output_type": "error",
     "traceback": [
      "\u001b[1;31m---------------------------------------------------------------------------\u001b[0m",
      "\u001b[1;31mNameError\u001b[0m                                 Traceback (most recent call last)",
      "Input \u001b[1;32mIn [23]\u001b[0m, in \u001b[0;36m<cell line: 1>\u001b[1;34m()\u001b[0m\n\u001b[1;32m----> 1\u001b[0m \u001b[43mparabens\u001b[49m ()\n",
      "\u001b[1;31mNameError\u001b[0m: name 'parabens' is not defined"
     ]
    }
   ],
   "source": [
    "parabens ()"
   ]
  },
  {
   "cell_type": "code",
   "execution_count": 25,
   "id": "758a8d69",
   "metadata": {},
   "outputs": [],
   "source": [
    "def parabens():\n",
    "    print('Parabens para você\\n Nessa data querida \\n muitas felicidades\\n muitos anos de vida')"
   ]
  },
  {
   "cell_type": "code",
   "execution_count": 26,
   "id": "e92f49d4",
   "metadata": {},
   "outputs": [
    {
     "name": "stdout",
     "output_type": "stream",
     "text": [
      "Parabens para você\n",
      " Nessa data querida \n",
      " muitas felicidades\n",
      " muitos anos de vida\n"
     ]
    }
   ],
   "source": [
    "parabens ()"
   ]
  },
  {
   "cell_type": "code",
   "execution_count": 29,
   "id": "e14c3820",
   "metadata": {
    "scrolled": true
   },
   "outputs": [
    {
     "ename": "IndentationError",
     "evalue": "expected an indented block (243536664.py, line 4)",
     "output_type": "error",
     "traceback": [
      "\u001b[1;36m  Input \u001b[1;32mIn [29]\u001b[1;36m\u001b[0m\n\u001b[1;33m    print ('Voce utilizou a letra u')\u001b[0m\n\u001b[1;37m    ^\u001b[0m\n\u001b[1;31mIndentationError\u001b[0m\u001b[1;31m:\u001b[0m expected an indented block\n"
     ]
    }
   ],
   "source": [
    "def temletrau():\n",
    "    frase = input(\"Digite uma frase\")\n",
    "    if 'u' in frase:\n",
    "        print ('Voce utilizou a letra u')\n",
    "    else:\n",
    "        print ('Voce não utilizou a letra u')"
   ]
  },
  {
   "cell_type": "code",
   "execution_count": null,
   "id": "a31de538",
   "metadata": {},
   "outputs": [],
   "source": []
  },
  {
   "cell_type": "code",
   "execution_count": null,
   "id": "81261862",
   "metadata": {},
   "outputs": [],
   "source": [
    "def temletrau ()\n",
    "\n",
    "    fra"
   ]
  }
 ],
 "metadata": {
  "kernelspec": {
   "display_name": "Python 3 (ipykernel)",
   "language": "python",
   "name": "python3"
  },
  "language_info": {
   "codemirror_mode": {
    "name": "ipython",
    "version": 3
   },
   "file_extension": ".py",
   "mimetype": "text/x-python",
   "name": "python",
   "nbconvert_exporter": "python",
   "pygments_lexer": "ipython3",
   "version": "3.9.12"
  }
 },
 "nbformat": 4,
 "nbformat_minor": 5
}
